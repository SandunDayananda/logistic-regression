{
  "nbformat": 4,
  "nbformat_minor": 0,
  "metadata": {
    "colab": {
      "provenance": [],
      "authorship_tag": "ABX9TyNKAoJmi8/IwSFZTr2uZHQC",
      "include_colab_link": true
    },
    "kernelspec": {
      "name": "python3",
      "display_name": "Python 3"
    },
    "language_info": {
      "name": "python"
    }
  },
  "cells": [
    {
      "cell_type": "markdown",
      "metadata": {
        "id": "view-in-github",
        "colab_type": "text"
      },
      "source": [
        "<a href=\"https://colab.research.google.com/github/SandunDayananda/logistic-regression/blob/main/model%20evaluation%20metrices.ipynb\" target=\"_parent\"><img src=\"https://colab.research.google.com/assets/colab-badge.svg\" alt=\"Open In Colab\"/></a>"
      ]
    },
    {
      "cell_type": "code",
      "execution_count": 1,
      "metadata": {
        "colab": {
          "base_uri": "https://localhost:8080/"
        },
        "id": "-BB7ol7MY94t",
        "outputId": "ed37a007-73fc-4003-c450-0f948bedec24"
      },
      "outputs": [
        {
          "output_type": "stream",
          "name": "stdout",
          "text": [
            "Accuracy: 0.511\n",
            "Precision: 0.5362318840579711\n",
            "Recall: 0.49427480916030536\n",
            "F1 score: 0.5143992055610725\n",
            "Confusion Matrix:\n",
            "[[252 224]\n",
            " [265 259]]\n",
            "AUC-ROC score: 0.5047629738918469\n"
          ]
        }
      ],
      "source": [
        "import numpy as np\n",
        "from sklearn.metrics import accuracy_score, precision_score, recall_score, f1_score, confusion_matrix, roc_auc_score\n",
        "\n",
        "# Generate random predicted probabilities and true labels\n",
        "np.random.seed(0)\n",
        "num_samples = 1000\n",
        "predicted_probs = np.random.rand(num_samples)\n",
        "true_labels = np.random.randint(2, size=num_samples)\n",
        "\n",
        "# Threshold the predicted probabilities to obtain binary predictions\n",
        "predictions = (predicted_probs >= 0.5).astype(int)\n",
        "\n",
        "# Calculate evaluation metrics\n",
        "accuracy = accuracy_score(true_labels, predictions)\n",
        "precision = precision_score(true_labels, predictions)\n",
        "recall = recall_score(true_labels, predictions)\n",
        "f1 = f1_score(true_labels, predictions)\n",
        "cm = confusion_matrix(true_labels, predictions)\n",
        "auc_roc = roc_auc_score(true_labels, predicted_probs)\n",
        "\n",
        "# Print the evaluation metrics\n",
        "print(\"Accuracy:\", accuracy)\n",
        "print(\"Precision:\", precision)\n",
        "print(\"Recall:\", recall)\n",
        "print(\"F1 score:\", f1)\n",
        "print(\"Confusion Matrix:\")\n",
        "print(cm)\n",
        "print(\"AUC-ROC score:\", auc_roc)\n"
      ]
    }
  ]
}